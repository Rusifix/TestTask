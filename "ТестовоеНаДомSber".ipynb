{
  "nbformat": 4,
  "nbformat_minor": 0,
  "metadata": {
    "colab": {
      "provenance": [],
      "include_colab_link": true
    },
    "kernelspec": {
      "name": "python3",
      "display_name": "Python 3"
    },
    "language_info": {
      "name": "python"
    }
  },
  "cells": [
    {
      "cell_type": "markdown",
      "metadata": {
        "id": "view-in-github",
        "colab_type": "text"
      },
      "source": [
        "<a href=\"https://colab.research.google.com/github/Rusifix/TestTask/blob/main/%22%D0%A2%D0%B5%D1%81%D1%82%D0%BE%D0%B2%D0%BE%D0%B5%D0%9D%D0%B0%D0%94%D0%BE%D0%BCSber%22.ipynb\" target=\"_parent\"><img src=\"https://colab.research.google.com/assets/colab-badge.svg\" alt=\"Open In Colab\"/></a>"
      ]
    },
    {
      "cell_type": "code",
      "source": [
        "import pandas as pd"
      ],
      "metadata": {
        "id": "oWQwM9sOKxRb"
      },
      "execution_count": null,
      "outputs": []
    },
    {
      "cell_type": "markdown",
      "source": [
        "SQL1\n",
        "Нужно вывести главу отдела, чей сотрудник получает самую большую зарплату, на текущий момент\n",
        "\n",
        "employees - Таблица\n",
        "- head - глава отдела (хэды уникальны)\n",
        "- employee - сотрудник (сотрудники уникальны)\n",
        "\n",
        "salaries - Таблица\n",
        "- employee - сотрудник (сотрудники уникальны)\n",
        "- salary - зарплата\n",
        "- date - дата обновления зарплаты\n",
        "\n",
        "Используй онлайн SQL интерпретатор (например https://sqliteonline.com/)"
      ],
      "metadata": {
        "id": "S1EY6DQtKzci"
      }
    },
    {
      "cell_type": "code",
      "source": [
        "CREATE TABLE salaries(\n",
        "   employee VARCHAR(5)\n",
        "  ,salary   INT\n",
        "  ,date     DATE\n",
        ");\n",
        "INSERT INTO salaries(employee,salary,date) VALUES ('tom','2342','2023-01-14');\n",
        "INSERT INTO salaries(employee,salary,date) VALUES ('tom','2345','2023-03-17');\n",
        "INSERT INTO salaries(employee,salary,date) VALUES ('nick','5424','2022-04-01');\n",
        "INSERT INTO salaries(employee,salary,date) VALUES ('nick','5500','2023-02-30');\n",
        "INSERT INTO salaries(employee,salary,date) VALUES ('juli','4566','2021-04-03');\n",
        "INSERT INTO salaries(employee,salary,date) VALUES ('juli','6000','2024-01-12');\n",
        "INSERT INTO salaries(employee,salary,date) VALUES ('axel','12444','2022-05-17');\n",
        "INSERT INTO salaries(employee,salary,date) VALUES ('axel','14000','2023-11-12');\n",
        "INSERT INTO salaries(employee,salary,date) VALUES ('henry','1244','2021-03-19');\n",
        "INSERT INTO salaries(employee,salary,date) VALUES ('henry','7000','2023-02-09');\n",
        "INSERT INTO salaries(employee,salary,date) VALUES ('tomas','2345','2024-02-02');\n",
        "INSERT INTO salaries(employee,salary,date) VALUES ('tomas','4000','2024-02-09');\n",
        "INSERT INTO salaries(employee,salary,date) VALUES ('fiona','1000','2023-07-31');\n",
        "INSERT INTO salaries(employee,salary,date) VALUES ('fiona','1200','2024-01-29');\n",
        "INSERT INTO salaries(employee,salary,date) VALUES ('ben','1244','2021-12-14');\n",
        "INSERT INTO salaries(employee,salary,date) VALUES ('ben','7001','2023-03-27');\n",
        "INSERT INTO salaries(employee,salary,date) VALUES ('shen','6000','2022-02-18');\n",
        "INSERT INTO salaries(employee,salary,date) VALUES ('shen','7001','2024-01-28');\n",
        "INSERT INTO salaries(employee,salary,date) VALUES ('lora','4050','2023-08-30');\n",
        "INSERT INTO salaries(employee,salary,date) VALUES ('lora','7400','2024-01-19');\n",
        "\n",
        "\n",
        "CREATE TABLE employees(\n",
        "   head     VARCHAR(6)\n",
        "  ,employee VARCHAR(5)\n",
        ");\n",
        "INSERT INTO employees(head,employee) VALUES ('donald','tom');\n",
        "INSERT INTO employees(head,employee) VALUES ('olaf','nick');\n",
        "INSERT INTO employees(head,employee) VALUES ('jacob','juli');\n",
        "INSERT INTO employees(head,employee) VALUES ('donald','axel');\n",
        "INSERT INTO employees(head,employee) VALUES ('olaf','henry');\n",
        "INSERT INTO employees(head,employee) VALUES ('jacob','tomas');\n",
        "INSERT INTO employees(head,employee) VALUES ('donald','fiona');\n",
        "INSERT INTO employees(head,employee) VALUES ('olaf','ben');\n",
        "INSERT INTO employees(head,employee) VALUES ('jacob','shen');\n",
        "INSERT INTO employees(head,employee) VALUES ('doanld','lora');\n",
        "\n"
      ],
      "metadata": {
        "id": "9ePW16D7NShi",
        "outputId": "c408fc3f-dece-49ed-be15-da0e19c8d2a7",
        "colab": {
          "base_uri": "https://localhost:8080/",
          "height": 106
        }
      },
      "execution_count": null,
      "outputs": [
        {
          "output_type": "error",
          "ename": "SyntaxError",
          "evalue": "invalid syntax (<ipython-input-3-451ec7287725>, line 1)",
          "traceback": [
            "\u001b[0;36m  File \u001b[0;32m\"<ipython-input-3-451ec7287725>\"\u001b[0;36m, line \u001b[0;32m1\u001b[0m\n\u001b[0;31m    CREATE TABLE salaries(\u001b[0m\n\u001b[0m           ^\u001b[0m\n\u001b[0;31mSyntaxError\u001b[0m\u001b[0;31m:\u001b[0m invalid syntax\n"
          ]
        }
      ]
    },
    {
      "cell_type": "code",
      "source": [
        "with top_salary as (\n",
        "  select\n",
        "    employee,\n",
        "    max(salary)\n",
        "  from salaries\n",
        "  where date = (select max(date) over (partition by employee) from salaries )\n",
        "  group by employee\n",
        ")\n",
        "select\n",
        "  head\n",
        "from employees emp\n",
        "join top_salary ts\n",
        "inner join ts.employee = emp.employee"
      ],
      "metadata": {
        "id": "H3OdJlF0Kz04"
      },
      "execution_count": null,
      "outputs": []
    },
    {
      "cell_type": "markdown",
      "source": [
        "Python1\n",
        "Субд не работает, но при этом у тебя есть два файла employees.csv и salaries.csv, повтори задачу поиском главы отдела, чей сотрудник получает самую большую зарплату, на текущий момент на Python\n"
      ],
      "metadata": {
        "id": "fb6885YlK3Po"
      }
    },
    {
      "cell_type": "code",
      "source": [
        "employees = [['donald', 'tom'],\n",
        "             ['olaf', 'nick'],\n",
        "             ['jacob', 'juli'],\n",
        "             ['donald', 'axel'],\n",
        "             ['olaf', 'henry'],\n",
        "             ['jacob', 'tomas'],\n",
        "             ['donald', 'fiona'],\n",
        "             ['olaf', 'ben'],\n",
        "             ['jacob', 'shen'],\n",
        "             ['doanld', 'lora']]\n",
        "\n",
        "employees = pd.DataFrame(employees, columns=['head', 'employee'])\n",
        "\n",
        "salaries = [['tom', 2342, '2023-01-14'],\n",
        "          ['tom', 2345, '2023-03-17'],\n",
        "\n",
        "          ['nick', 5424, '2022-04-01'],\n",
        "          ['nick', 5500, '2023-02-30'],\n",
        "\n",
        "          ['juli', 4566, '2021-04-03'],\n",
        "          ['juli', 6000, '2024-01-12'],\n",
        "\n",
        "          ['axel', 12444, '2022-05-17'],\n",
        "          ['axel', 14000, '2023-11-12'],\n",
        "\n",
        "          ['henry', 1244, '2021-03-19'],\n",
        "          ['henry', 7000, '2023-02-09'],\n",
        "\n",
        "          ['tomas', 2345, '2024-02-02'],\n",
        "          ['tomas', 4000, '2024-02-09'],\n",
        "\n",
        "          ['fiona', 1000, '2023-07-31'],\n",
        "          ['fiona', 1200, '2024-01-29'],\n",
        "\n",
        "          ['ben', 1244, '2021-12-14'],\n",
        "          ['ben', 7001, '2023-03-27'],\n",
        "\n",
        "          ['shen', 6000, '2022-02-18'],\n",
        "          ['shen', 7001, '2024-01-28'],\n",
        "\n",
        "          ['lora', 4050, '2023-08-30'],\n",
        "          ['lora', 7400, '2024-01-19']]\n",
        "\n",
        "salaries = pd.DataFrame(salaries, columns=['employee', 'salary', 'date'])"
      ],
      "metadata": {
        "id": "SXipz6BNK4Qp"
      },
      "execution_count": null,
      "outputs": []
    },
    {
      "cell_type": "code",
      "source": [
        "top_salary = salaries.sort_values('date', ascending=False).groupby('employee', as_index=False).agg({'salary':'max'})\n",
        "result_df = pd.merge(employees, top_salary, on='employee', how='inner')\n",
        "result_df = result_df.sort_values('salary', ascending=False)\n",
        "result_df.head(1)"
      ],
      "metadata": {
        "id": "7Rk5BSesc2Y9",
        "outputId": "54ad469c-1ac0-4a2d-da7d-579bf261a70d",
        "colab": {
          "base_uri": "https://localhost:8080/",
          "height": 81
        }
      },
      "execution_count": null,
      "outputs": [
        {
          "output_type": "execute_result",
          "data": {
            "text/plain": [
              "     head employee  salary\n",
              "3  donald     axel   14000"
            ],
            "text/html": [
              "\n",
              "  <div id=\"df-52c7e048-f7d0-4cf6-8101-b20a78350eba\" class=\"colab-df-container\">\n",
              "    <div>\n",
              "<style scoped>\n",
              "    .dataframe tbody tr th:only-of-type {\n",
              "        vertical-align: middle;\n",
              "    }\n",
              "\n",
              "    .dataframe tbody tr th {\n",
              "        vertical-align: top;\n",
              "    }\n",
              "\n",
              "    .dataframe thead th {\n",
              "        text-align: right;\n",
              "    }\n",
              "</style>\n",
              "<table border=\"1\" class=\"dataframe\">\n",
              "  <thead>\n",
              "    <tr style=\"text-align: right;\">\n",
              "      <th></th>\n",
              "      <th>head</th>\n",
              "      <th>employee</th>\n",
              "      <th>salary</th>\n",
              "    </tr>\n",
              "  </thead>\n",
              "  <tbody>\n",
              "    <tr>\n",
              "      <th>3</th>\n",
              "      <td>donald</td>\n",
              "      <td>axel</td>\n",
              "      <td>14000</td>\n",
              "    </tr>\n",
              "  </tbody>\n",
              "</table>\n",
              "</div>\n",
              "    <div class=\"colab-df-buttons\">\n",
              "\n",
              "  <div class=\"colab-df-container\">\n",
              "    <button class=\"colab-df-convert\" onclick=\"convertToInteractive('df-52c7e048-f7d0-4cf6-8101-b20a78350eba')\"\n",
              "            title=\"Convert this dataframe to an interactive table.\"\n",
              "            style=\"display:none;\">\n",
              "\n",
              "  <svg xmlns=\"http://www.w3.org/2000/svg\" height=\"24px\" viewBox=\"0 -960 960 960\">\n",
              "    <path d=\"M120-120v-720h720v720H120Zm60-500h600v-160H180v160Zm220 220h160v-160H400v160Zm0 220h160v-160H400v160ZM180-400h160v-160H180v160Zm440 0h160v-160H620v160ZM180-180h160v-160H180v160Zm440 0h160v-160H620v160Z\"/>\n",
              "  </svg>\n",
              "    </button>\n",
              "\n",
              "  <style>\n",
              "    .colab-df-container {\n",
              "      display:flex;\n",
              "      gap: 12px;\n",
              "    }\n",
              "\n",
              "    .colab-df-convert {\n",
              "      background-color: #E8F0FE;\n",
              "      border: none;\n",
              "      border-radius: 50%;\n",
              "      cursor: pointer;\n",
              "      display: none;\n",
              "      fill: #1967D2;\n",
              "      height: 32px;\n",
              "      padding: 0 0 0 0;\n",
              "      width: 32px;\n",
              "    }\n",
              "\n",
              "    .colab-df-convert:hover {\n",
              "      background-color: #E2EBFA;\n",
              "      box-shadow: 0px 1px 2px rgba(60, 64, 67, 0.3), 0px 1px 3px 1px rgba(60, 64, 67, 0.15);\n",
              "      fill: #174EA6;\n",
              "    }\n",
              "\n",
              "    .colab-df-buttons div {\n",
              "      margin-bottom: 4px;\n",
              "    }\n",
              "\n",
              "    [theme=dark] .colab-df-convert {\n",
              "      background-color: #3B4455;\n",
              "      fill: #D2E3FC;\n",
              "    }\n",
              "\n",
              "    [theme=dark] .colab-df-convert:hover {\n",
              "      background-color: #434B5C;\n",
              "      box-shadow: 0px 1px 3px 1px rgba(0, 0, 0, 0.15);\n",
              "      filter: drop-shadow(0px 1px 2px rgba(0, 0, 0, 0.3));\n",
              "      fill: #FFFFFF;\n",
              "    }\n",
              "  </style>\n",
              "\n",
              "    <script>\n",
              "      const buttonEl =\n",
              "        document.querySelector('#df-52c7e048-f7d0-4cf6-8101-b20a78350eba button.colab-df-convert');\n",
              "      buttonEl.style.display =\n",
              "        google.colab.kernel.accessAllowed ? 'block' : 'none';\n",
              "\n",
              "      async function convertToInteractive(key) {\n",
              "        const element = document.querySelector('#df-52c7e048-f7d0-4cf6-8101-b20a78350eba');\n",
              "        const dataTable =\n",
              "          await google.colab.kernel.invokeFunction('convertToInteractive',\n",
              "                                                    [key], {});\n",
              "        if (!dataTable) return;\n",
              "\n",
              "        const docLinkHtml = 'Like what you see? Visit the ' +\n",
              "          '<a target=\"_blank\" href=https://colab.research.google.com/notebooks/data_table.ipynb>data table notebook</a>'\n",
              "          + ' to learn more about interactive tables.';\n",
              "        element.innerHTML = '';\n",
              "        dataTable['output_type'] = 'display_data';\n",
              "        await google.colab.output.renderOutput(dataTable, element);\n",
              "        const docLink = document.createElement('div');\n",
              "        docLink.innerHTML = docLinkHtml;\n",
              "        element.appendChild(docLink);\n",
              "      }\n",
              "    </script>\n",
              "  </div>\n",
              "\n",
              "    </div>\n",
              "  </div>\n"
            ],
            "application/vnd.google.colaboratory.intrinsic+json": {
              "type": "dataframe",
              "variable_name": "result_df",
              "summary": "{\n  \"name\": \"result_df\",\n  \"rows\": 10,\n  \"fields\": [\n    {\n      \"column\": \"head\",\n      \"properties\": {\n        \"dtype\": \"category\",\n        \"num_unique_values\": 4,\n        \"samples\": [\n          \"doanld\",\n          \"jacob\",\n          \"donald\"\n        ],\n        \"semantic_type\": \"\",\n        \"description\": \"\"\n      }\n    },\n    {\n      \"column\": \"employee\",\n      \"properties\": {\n        \"dtype\": \"string\",\n        \"num_unique_values\": 10,\n        \"samples\": [\n          \"tom\",\n          \"lora\",\n          \"juli\"\n        ],\n        \"semantic_type\": \"\",\n        \"description\": \"\"\n      }\n    },\n    {\n      \"column\": \"salary\",\n      \"properties\": {\n        \"dtype\": \"number\",\n        \"std\": 3486,\n        \"min\": 1200,\n        \"max\": 14000,\n        \"num_unique_values\": 9,\n        \"samples\": [\n          2345,\n          7400,\n          5500\n        ],\n        \"semantic_type\": \"\",\n        \"description\": \"\"\n      }\n    }\n  ]\n}"
            }
          },
          "metadata": {},
          "execution_count": 12
        }
      ]
    },
    {
      "cell_type": "markdown",
      "source": [
        "Python2 Напиши функцию парсер авито, которая принимает на вход марку и модель автомобиля и возвращает датафрейм с подходящими объявлениями в Москве. В датафрейме должны быть название объяления, ссылка на его страницу и цена. Разрешается использовать любые библиотеки для парсинга."
      ],
      "metadata": {
        "id": "NX8vo9tqbEML"
      }
    },
    {
      "cell_type": "code",
      "source": [
        "from bs4 import BeautifulSoup\n",
        "import requests\n",
        "\n",
        "def pars_avito(brend, model):\n",
        "  url = f'https://www.avito.ru/avtomobili?q={brend}/{model}'\n",
        "  request = requests.get(url)\n",
        "  bs = BeautifulSoup(request.text, 'html.parser')\n",
        "  all_links = bs.find_all('a', class_='styles-module-root-YeOVk styles-module-root_noVisited-MpiGq')\n",
        "  name = []\n",
        "  link = []\n",
        "  price = []\n",
        "  for link in all_links:\n",
        "    new_request = requests.get('https://www.avito.ru/' + link['href'])\n",
        "    new_bs = BeautifulSoup(new_request.text, 'html.parser')\n",
        "    link.append('https://www.avito.ru/' + link['href'])\n",
        "    name.append(new_bs.find('h1'))\n",
        "    price.append(new_bs.find('span',class_='styles-module-size_xxxl-MrhiK'))\n",
        "  cars_df = pd.DataFrame({'Name':name,\n",
        "                        'Link_on':link,\n",
        "                        'Price':price})\n",
        "  return cars_df"
      ],
      "metadata": {
        "id": "bVZRyMulQE1Q",
        "outputId": "a827d5ff-5c82-4f3d-e5ad-b8cdfbe67984",
        "colab": {
          "base_uri": "https://localhost:8080/"
        }
      },
      "execution_count": null,
      "outputs": [
        {
          "output_type": "stream",
          "name": "stdout",
          "text": [
            "[]\n"
          ]
        }
      ]
    },
    {
      "cell_type": "code",
      "source": [],
      "metadata": {
        "id": "zW9GE-SrIn2d"
      },
      "execution_count": null,
      "outputs": []
    },
    {
      "cell_type": "code",
      "source": [],
      "metadata": {
        "id": "96vR834fIooY"
      },
      "execution_count": null,
      "outputs": []
    },
    {
      "cell_type": "code",
      "source": [],
      "metadata": {
        "id": "4HXOY0uWMQrF"
      },
      "execution_count": null,
      "outputs": []
    },
    {
      "cell_type": "code",
      "source": [],
      "metadata": {
        "id": "kry_A4L_MRhX"
      },
      "execution_count": null,
      "outputs": []
    }
  ]
}